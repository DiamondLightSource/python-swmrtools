{
 "cells": [
  {
   "cell_type": "markdown",
   "metadata": {},
   "source": [
    "# DataSource\n",
    "\n",
    "The DataSource submodule provides an efficient wrapper for the \n",
    "KeyFollower.Follower and KeyFollower.FrameGrabber classes. Instances of the\n",
    "DataSource.DataFollower class are iterators with similar functionality to\n",
    "instances of the KeyFollower.Follower class, however rather than indices they\n",
    "simply produce the frames themselves.\n",
    "\n",
    "## DataFollower\n",
    "\n",
    "\n",
    "The DataFollower class requires 3 arguments:\n",
    "\n",
    "* An instance of an h5py.File object containing the datasets of interest.\n",
    "* A list of paths to **groups** containing datasets of keys.\n",
    "* A list of paths to **datasets** containing the data you wish to process.\n",
    "\n",
    "THe DataFollower also has an optional timeout argument, which defaults to 1\n",
    "second unless otherwise specified. This works in exactly the same way as the\n",
    "timeout for the KeyFollower.Follower class.\n",
    "\n",
    "First we will create two small datasets (of the same size but containing different values)\n",
    " and corresponding unique key dataset to use in our example. \n",
    " The keys will all be non-zero so we should expect to recieve\n",
    "every frame of the dataset"
   ]
  },
  {
   "cell_type": "code",
   "execution_count": null,
   "metadata": {},
   "outputs": [],
   "source": [
    "from swmr_tools.KeyFollower import Follower, FrameGrabber\n",
    "from swmr_tools.DataSource import DataFollower\n",
    "import h5py\n",
    "import numpy as np\n",
    "\n",
    "#Create a small dataset to extract frames from\n",
    "data_1 = np.random.randint(low = -10000, high = 10000, size = (2,2,5,10))\n",
    "data_2 = np.random.randint(low = -10000, high = 10000, size = (2,2,5,10))\n",
    "keys_1 = np.arange(1,5).reshape(2,2,1,1)\n",
    "\n",
    "#Save data to an hdf5 File\n",
    "with h5py.File(\"example.h5\", \"w\", libver = \"latest\") as f:\n",
    "    f.create_group(\"keys\")\n",
    "    f.create_group(\"data\")\n",
    "    f[\"keys\"].create_dataset(\"keys_1\", data = keys_1)\n",
    "    f[\"data\"].create_dataset(\"data_1\", data = data_1)\n",
    "    f[\"data\"].create_dataset(\"data_2\", data = data_2)"
   ]
  },
  {
   "cell_type": "markdown",
   "metadata": {},
   "source": [
    "Firstly we will iterate through the frames just using the classes found in the\n",
    "KeyFollower submodule. Because we have two datasets, we will need to use two\n",
    "instances of the FrameGrabber class (one for each dataset)"
   ]
  },
  {
   "cell_type": "code",
   "execution_count": null,
   "metadata": {},
   "outputs": [],
   "source": [
    "with h5py.File(\"example.h5\", \"r\") as f:\n",
    "    kf = Follower(f, [\"keys\"], timeout = 1)\n",
    "    fg = FrameGrabber(\"data/data_1\", f)\n",
    "    for key in kf:\n",
    "        frame = fg.Grabber(key)\n",
    "        print(f\"Frame number: {key}\")\n",
    "        print(str(frame) + \"\\n\")"
   ]
  },
  {
   "cell_type": "code",
   "execution_count": null,
   "metadata": {},
   "outputs": [],
   "source": [
    "with h5py.File(\"example.h5\", \"r\") as f:\n",
    "    kf = Follower(f, [\"keys\"], timeout = 1)\n",
    "    fg = FrameGrabber(\"data/data_2\", f)\n",
    "    for key in kf:\n",
    "        frame = fg.Grabber(key)\n",
    "        print(f\"Frame number: {key}\")\n",
    "        print(str(frame) + \"\\n\")"
   ]
  },
  {
   "cell_type": "markdown",
   "metadata": {},
   "source": [
    "Use of the DataFollower class eliminates the need for creating multiple FrameGrabber\n",
    "instances. Like the KeyFollower.Follower class, instances of the DataFollower\n",
    "class are iterators. Like with the KeyFollower.Follower class, we instantiate \n",
    "it with the data containing h5py.File object, and a list of paths to key containing\n",
    "groups. We also pass a list of paths to datasets we want frames from.\n",
    "\n",
    "Once we have an instance of the class, we can use it in a for loop as with any\n",
    "other iterator. At each step of the iteration a list containing the frame for\n",
    "each dataset is returned. The ordering of the frames is the same as the ordering\n",
    "of the list of datasets."
   ]
  },
  {
   "cell_type": "code",
   "execution_count": null,
   "metadata": {},
   "outputs": [],
   "source": [
    "with h5py.File(\"example.h5\", \"r\") as f:\n",
    "    df = DataFollower(f, ['keys'], ['data/data_1', 'data/data_2'])\n",
    "    key = 0\n",
    "    for frames in df:\n",
    "        print(f\"Frame: {key}\")\n",
    "        print(frames)\n",
    "        print(\"\")\n",
    "        key += 1"
   ]
  },
  {
   "cell_type": "code",
   "execution_count": null,
   "metadata": {},
   "outputs": [],
   "source": []
  }
 ],
 "metadata": {
  "kernelspec": {
   "display_name": "Python 3",
   "language": "python",
   "name": "python3"
  },
  "language_info": {
   "codemirror_mode": {
    "name": "ipython",
    "version": 3
   },
   "file_extension": ".py",
   "mimetype": "text/x-python",
   "name": "python",
   "nbconvert_exporter": "python",
   "pygments_lexer": "ipython3",
   "version": "3.8.3"
  }
 },
 "nbformat": 4,
 "nbformat_minor": 4
}
