{
 "cells": [
  {
   "cell_type": "markdown",
   "metadata": {},
   "source": [
    "# Improving Performance With Dask"
   ]
  },
  {
   "cell_type": "markdown",
   "metadata": {},
   "source": [
    "Dask is an open source library in python for parallel computing. It has a very\n",
    "extensive feature set allowing projects built in standard scientific python\n",
    "libraries to scale for very large datasets. In swmr_tools we currently only\n",
    "use a small subset of dasks features to help parallelise operations on dataset\n",
    "frames."
   ]
  },
  {
   "cell_type": "markdown",
   "metadata": {},
   "source": [
    "## Using Dask to Speed up Operations\n",
    "### Sequential Example\n",
    "For this example we will create a reasonably large dataset containing random integers"
   ]
  },
  {
   "cell_type": "code",
   "execution_count": null,
   "metadata": {},
   "outputs": [],
   "source": [
    "import h5py\n",
    "from swmr_tools.KeyFollower import Follower, FrameGrabber\n",
    "import numpy as np\n",
    "import time\n",
    "complete_keys = np.arange(25).reshape(5,5,1,1) + 1\n",
    "complete_dataset = np.random.randint(low = 1, high = 5000, size = (5,5,10,20))\n",
    "\n",
    "with h5py.File(\"test.h5\", \"w\", libver = \"latest\") as f:\n",
    "    f.create_group('keys')\n",
    "    f.create_group('data')\n",
    "    f['keys'].create_dataset(\"key_1\", data = complete_keys)\n",
    "    f['data'].create_dataset(\"data_1\", data = complete_dataset)\n"
   ]
  },
  {
   "cell_type": "markdown",
   "metadata": {},
   "source": [
    "We will next simulate the running of a long calculation"
   ]
  },
  {
   "cell_type": "code",
   "execution_count": null,
   "metadata": {},
   "outputs": [],
   "source": [
    "def long_function(key, filepath = \"test.h5\", dataset = \"data/data_1\"):\n",
    "    time.sleep(1)\n",
    "    with h5py.File(filepath, \"r\", swmr = True) as f:\n",
    "        fg = FrameGrabber(dataset, f)\n",
    "        frame = fg.Grabber(key)\n",
    "        return frame.sum()\n",
    "\n",
    "def key_generator(queue, filepath = \"test.h5\"):\n",
    "    with h5py.File(filepath, \"r\", swmr = True) as f:\n",
    "        kf = Follower(f, ['keys'], timeout = 0.1)\n",
    "        for key in kf:\n",
    "            queue.put(key)\n",
    "        queue.put(\"End\")"
   ]
  },
  {
   "cell_type": "markdown",
   "metadata": {},
   "source": [
    "We will run this serial job and time how long it takes to complete "
   ]
  },
  {
   "cell_type": "code",
   "execution_count": null,
   "metadata": {},
   "outputs": [],
   "source": [
    "from threading import Thread\n",
    "from queue import Queue\n",
    "\n",
    "def frame_consumer_serial(queue, filepath = \"test.h5\", dataset = \"data/data_1\"):\n",
    "    return_list = []\n",
    "    key = queue.get()\n",
    "    while key != 'End':\n",
    "        return_list.append(long_function(key))\n",
    "        key = queue.get()\n",
    "    return return_list\n",
    "\n",
    "def run_in_serial():\n",
    "    queue = Queue()\n",
    "    key_generator_thread = Thread(target = key_generator(queue))\n",
    "    frame_consumer_serial_thread = Thread(target = frame_consumer_serial, args = (queue,))\n",
    "    key_generator_thread.start()\n",
    "    frame_consumer_serial_thread.start()\n",
    "    key_generator_thread.join()\n",
    "    frame_consumer_serial_thread.join()"
   ]
  },
  {
   "cell_type": "code",
   "execution_count": null,
   "metadata": {},
   "outputs": [],
   "source": [
    "%%time\n",
    "run_in_serial()"
   ]
  },
  {
   "cell_type": "markdown",
   "metadata": {},
   "source": [
    "We will slightly augment the run_in_serial function to run on dask"
   ]
  },
  {
   "cell_type": "code",
   "execution_count": null,
   "metadata": {},
   "outputs": [],
   "source": [
    "from dask.distributed import Client\n",
    "def frame_consumer_parallel(queue, filepath = \"test.h5\", dataset = \"data/data_1\"):\n",
    "    return_list = []\n",
    "    client = Client()\n",
    "    key = queue.get()\n",
    "    while key != 'End':\n",
    "        return_list.append(client.submit(long_function, key))\n",
    "        key = queue.get()\n",
    "    return client.gather(return_list)\n",
    "\n",
    "def run_in_parallel_in_dask():\n",
    "    queue = Queue()\n",
    "    key_generator_thread = Thread(target = key_generator, args = (queue,))\n",
    "    frame_consumer_serial_thread = Thread(target = frame_consumer_parallel, args = (queue,))\n",
    "    key_generator_thread.start()\n",
    "    frame_consumer_serial_thread.start()\n",
    "    key_generator_thread.join()\n",
    "    frame_consumer_serial_thread.join()"
   ]
  },
  {
   "cell_type": "code",
   "execution_count": null,
   "metadata": {},
   "outputs": [],
   "source": [
    "%%time\n",
    "run_in_parallel_in_dask()"
   ]
  },
  {
   "cell_type": "markdown",
   "metadata": {},
   "source": [
    "# Job Size and Overheads"
   ]
  },
  {
   "cell_type": "markdown",
   "metadata": {},
   "source": [
    "The action of calling 'client.submit(*args)' carries with it an overhead of \n",
    "~1 ms per task. Consequently, for tasks that are already fast (like calling \n",
    "np.sum on a reasonably small frame) we either recommend submitting several\n",
    "frames in a single job or running the job in a serial fashion depending upon\n",
    "your needs."
   ]
  },
  {
   "cell_type": "code",
   "execution_count": null,
   "metadata": {},
   "outputs": [],
   "source": [
    "def short_function(key, filepath = \"test.h5\", dataset = \"data/data_1\"):\n",
    "    #time.sleep(1)\n",
    "    with h5py.File(filepath, \"r\", swmr = True) as f:\n",
    "        fg = FrameGrabber(dataset, f)\n",
    "        frame = fg.Grabber(key)\n",
    "        return frame.sum()\n",
    "\n",
    "def key_generator(queue, filepath = \"test.h5\"):\n",
    "    with h5py.File(filepath, \"r\", swmr = True) as f:\n",
    "        kf = Follower(f, ['keys'], timeout = 0.1)\n",
    "        for key in kf:\n",
    "            queue.put(key)\n",
    "        queue.put(\"End\")\n",
    "        \n",
    "def frame_consumer_serial(queue, filepath = \"test.h5\", dataset = \"data/data_1\"):\n",
    "    return_list = []\n",
    "    key = queue.get()\n",
    "    while key != 'End':\n",
    "        return_list.append(short_function(key))\n",
    "        key = queue.get()\n",
    "    return return_list\n",
    "\n",
    "def run_in_serial():\n",
    "    queue = Queue()\n",
    "    key_generator_thread = Thread(target = key_generator(queue))\n",
    "    frame_consumer_serial_thread = Thread(target = frame_consumer_serial, args = (queue,))\n",
    "    key_generator_thread.start()\n",
    "    frame_consumer_serial_thread.start()\n",
    "    key_generator_thread.join()\n",
    "    frame_consumer_serial_thread.join()"
   ]
  },
  {
   "cell_type": "code",
   "execution_count": null,
   "metadata": {},
   "outputs": [],
   "source": [
    "%%time\n",
    "run_in_serial()"
   ]
  },
  {
   "cell_type": "code",
   "execution_count": null,
   "metadata": {},
   "outputs": [],
   "source": [
    "def frame_consumer_parallel(queue, filepath = \"test.h5\", dataset = \"data/data_1\"):\n",
    "    return_list = []\n",
    "    client = Client()\n",
    "    key = queue.get()\n",
    "    while key != 'End':\n",
    "        return_list.append(client.submit(short_function, key))\n",
    "        key = queue.get()\n",
    "    return client.gather(return_list)\n",
    "\n",
    "def run_in_parallel_in_dask():\n",
    "    queue = Queue()\n",
    "    key_generator_thread = Thread(target = key_generator, args = (queue,))\n",
    "    frame_consumer_serial_thread = Thread(target = frame_consumer_parallel, args = (queue,))\n",
    "    key_generator_thread.start()\n",
    "    frame_consumer_serial_thread.start()\n",
    "    key_generator_thread.join()\n",
    "    frame_consumer_serial_thread.join()"
   ]
  },
  {
   "cell_type": "code",
   "execution_count": null,
   "metadata": {},
   "outputs": [],
   "source": [
    "%%time\n",
    "run_in_parallel_in_dask()"
   ]
  },
  {
   "cell_type": "code",
   "execution_count": null,
   "metadata": {},
   "outputs": [],
   "source": []
  }
 ],
 "metadata": {
  "kernelspec": {
   "display_name": "Python 3",
   "language": "python",
   "name": "python3"
  },
  "language_info": {
   "codemirror_mode": {
    "name": "ipython",
    "version": 3
   },
   "file_extension": ".py",
   "mimetype": "text/x-python",
   "name": "python",
   "nbconvert_exporter": "python",
   "pygments_lexer": "ipython3",
   "version": "3.8.3"
  }
 },
 "nbformat": 4,
 "nbformat_minor": 4
}
