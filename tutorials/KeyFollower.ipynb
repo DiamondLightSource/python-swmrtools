{
 "cells": [
  {
   "cell_type": "markdown",
   "metadata": {},
   "source": [
    "# Getting Started\n",
    "swmr_tools can be downloaded from PyPi using a pip install. This will install swmr_tools and install/update dask, h5py and numpy to the latest versions"
   ]
  },
  {
   "cell_type": "code",
   "execution_count": 1,
   "metadata": {},
   "outputs": [
    {
     "name": "stdout",
     "output_type": "stream",
     "text": [
      "Requirement already satisfied: swmr_tools in /home/eja26438/anaconda3/lib/python3.8/site-packages (0.2)\n",
      "Requirement already satisfied: numpy in /home/eja26438/anaconda3/lib/python3.8/site-packages (from swmr_tools) (1.18.5)\n",
      "Requirement already satisfied: dask in /home/eja26438/anaconda3/lib/python3.8/site-packages (from swmr_tools) (2.20.0)\n",
      "Requirement already satisfied: h5py in /home/eja26438/anaconda3/lib/python3.8/site-packages (from swmr_tools) (2.10.0)\n",
      "Requirement already satisfied: pyyaml in /home/eja26438/anaconda3/lib/python3.8/site-packages (from dask->swmr_tools) (5.3.1)\n",
      "Requirement already satisfied: six in /home/eja26438/anaconda3/lib/python3.8/site-packages (from h5py->swmr_tools) (1.15.0)\n",
      "Note: you may need to restart the kernel to use updated packages.\n"
     ]
    }
   ],
   "source": [
    "pip install swmr_tools"
   ]
  },
  {
   "cell_type": "markdown",
   "metadata": {},
   "source": [
    "# KeyFollower\n",
    "\n",
    "The KeyFollower class is designed to facilitate live data processing of\n",
    "datasets contained within an hdf5 file. It achieves this through the use of\n",
    "two main classes:\n",
    "\n",
    "* Follower\n",
    "* FrameGrabber\n",
    "\n",
    "This tutorial assumes a basic level of skill using the h5py library.\n",
    "Specifically, you should be comfortable with using h5py to:\n",
    "\n",
    "* Open and create hdf5_files\n",
    "* Navigate files using python dictionary methods: *e.g.* using the get() method\n",
    "* Create groups and datasets\n",
    "\n",
    "If you are unfamiliar with how to do any of this we recommend reading the\n",
    "h5py quick start guide: https://docs.h5py.org/en/stable/quick.html\n"
   ]
  },
  {
   "cell_type": "markdown",
   "metadata": {},
   "source": [
    "## Follower\n",
    "The Follower class can be used to create instances of a python iterator object.\n",
    "The Follower is central to everything that swmr_tools does and most other\n",
    "classes either directly use it or are dependent upon the keys it produces."
   ]
  },
  {
   "cell_type": "markdown",
   "metadata": {},
   "source": [
    "### Example - Iteration through an all non-zero key dataset\n",
    "We will create a dataset of non-zero integers, respresenting a complete set of\n",
    "scans all flushed to disk"
   ]
  },
  {
   "cell_type": "code",
   "execution_count": 2,
   "metadata": {},
   "outputs": [],
   "source": [
    "import h5py\n",
    "from swmr_tools.KeyFollower import Follower, FrameGrabber\n",
    "import numpy as np\n",
    "\n",
    "#create a sequential array of the numbers 1-8 and reshape them into an array\n",
    "# of shape (2,4,1,1)\n",
    "complete_key_array = np.arange(8).reshape(2,4,1,1) + 1"
   ]
  },
  {
   "cell_type": "code",
   "execution_count": 3,
   "metadata": {},
   "outputs": [
    {
     "data": {
      "text/plain": [
       "array([[[[1]],\n",
       "\n",
       "        [[2]],\n",
       "\n",
       "        [[3]],\n",
       "\n",
       "        [[4]]],\n",
       "\n",
       "\n",
       "       [[[5]],\n",
       "\n",
       "        [[6]],\n",
       "\n",
       "        [[7]],\n",
       "\n",
       "        [[8]]]])"
      ]
     },
     "execution_count": 3,
     "metadata": {},
     "output_type": "execute_result"
    }
   ],
   "source": [
    "complete_key_array"
   ]
  },
  {
   "cell_type": "markdown",
   "metadata": {},
   "source": [
    "We will create an empty hdf5 file, create a group called \"keys\" and create\n",
    "a dataset in that group called \"key_1\" where we will add our array of non-zero\n",
    "keys"
   ]
  },
  {
   "cell_type": "code",
   "execution_count": 4,
   "metadata": {},
   "outputs": [],
   "source": [
    "with h5py.File(\"test_file.h5\", \"w\", libver = \"latest\") as f:\n",
    "    f.create_group(\"keys\")\n",
    "    f[\"keys\"].create_dataset(\"key_1\", data = complete_key_array)"
   ]
  },
  {
   "cell_type": "markdown",
   "metadata": {},
   "source": [
    "Next, we shall create an instance of the Follower class and demonstrate a\n",
    "simple example of its use. At a minimum we must pass the h5py.File object\n",
    "we wish to read from and a list containing the paths to the hdf5 groups\n",
    "containing our keys.\n",
    "\n",
    "Shown below is an example of using an instance of Follower within a for loop,\n",
    "as you would with any standard iterable object. For this basic example of a\n",
    "dataset containing only non-zero values, the loop runs 8 times and stops as\n",
    "expected "
   ]
  },
  {
   "cell_type": "code",
   "execution_count": 5,
   "metadata": {},
   "outputs": [
    {
     "name": "stdout",
     "output_type": "stream",
     "text": [
      "0\n",
      "1\n",
      "2\n",
      "3\n",
      "4\n",
      "5\n",
      "6\n",
      "7\n"
     ]
    }
   ],
   "source": [
    "# using an instance of Follower in a for loop\n",
    "with h5py.File(\"test_file.h5\", \"r\", swmr = True) as f:\n",
    "    kf = Follower(f, [\"keys\"], timeout = 1)\n",
    "    for key in kf:\n",
    "        print(key)\n"
   ]
  },
  {
   "cell_type": "markdown",
   "metadata": {},
   "source": [
    "### Example - Iteration through a dataset containg zeros\n",
    "The key dataset is a form of metadata which (as we will see in\n",
    "detail when looking at the FrameGrabber class) represents whether a frame of\n",
    "a given dataset is complete and has been flushed to disk.\n",
    "\n",
    "Non-zero key values represent frames that have been completely written and\n",
    "flushed to disk, while values of zero represent a frame that has not. We\n",
    "therefore expect the iterator to halt when the next key is zero and either to\n",
    "wait for it to update to a non-zero value and continue or to stop iteration\n",
    "entirely if a termination condition is met.\n",
    "\n",
    "We will demonstrate a simple example of this below using a timeout method as\n",
    "a termination condition. Timeout is the default method used by Follower\n",
    "(although others can be set)"
   ]
  },
  {
   "cell_type": "code",
   "execution_count": 6,
   "metadata": {},
   "outputs": [
    {
     "name": "stdout",
     "output_type": "stream",
     "text": [
      "[[[[1]]\n",
      "\n",
      "  [[2]]\n",
      "\n",
      "  [[3]]\n",
      "\n",
      "  [[4]]]\n",
      "\n",
      "\n",
      " [[[0]]\n",
      "\n",
      "  [[0]]\n",
      "\n",
      "  [[0]]\n",
      "\n",
      "  [[0]]]]\n",
      "0\n",
      "1\n",
      "2\n",
      "3\n"
     ]
    }
   ],
   "source": [
    "with h5py.File(\"test_file.h5\", \"r+\") as f:\n",
    "    #set all values in the second row to zero\n",
    "    f[\"keys/key_1\"][1,:,:,:] = 0\n",
    "    print(f[\"keys/key_1\"][...])\n",
    "\n",
    "with h5py.File(\"test_file.h5\", \"r\", swmr = True) as f:\n",
    "    kf = Follower(f, [\"keys\"], timeout = 1)\n",
    "    for key in kf:\n",
    "        print(key)"
   ]
  },
  {
   "cell_type": "markdown",
   "metadata": {},
   "source": [
    "The example above clearly shows that the follower iterates through the first\n",
    "row waits for the timeout and then proceeds to halt iteration when the key at\n",
    "index [1,0] does not change to a non-zero value within the 1 second timeout."
   ]
  },
  {
   "cell_type": "markdown",
   "metadata": {},
   "source": [
    "### Example - Iteration through multiple datasets at different completion points\n",
    "swmr_tools is designed to be able to coordinate access to multiple datasets which may be at various different stages of acquisition or writing. As such we want to ensure that the Follower iterator only proceeds as far as there are non-zero keys available for **all** available datasets.\n",
    "\n",
    "An example of this is shown below:"
   ]
  },
  {
   "cell_type": "code",
   "execution_count": 7,
   "metadata": {},
   "outputs": [],
   "source": [
    "complete_key_array = np.arange(8).reshape(2,4,1,1) + 1\n",
    "with h5py.File(\"test_file.h5\", \"r+\") as f:\n",
    "    f['keys'].create_dataset(\"key_2\", data = complete_key_array)"
   ]
  },
  {
   "cell_type": "code",
   "execution_count": 8,
   "metadata": {},
   "outputs": [
    {
     "name": "stdout",
     "output_type": "stream",
     "text": [
      "[[[[1]]\n",
      "\n",
      "  [[2]]\n",
      "\n",
      "  [[3]]\n",
      "\n",
      "  [[4]]]\n",
      "\n",
      "\n",
      " [[[0]]\n",
      "\n",
      "  [[0]]\n",
      "\n",
      "  [[0]]\n",
      "\n",
      "  [[0]]]]\n"
     ]
    }
   ],
   "source": [
    "with h5py.File(\"test_file.h5\", \"r+\") as f:\n",
    "    print(f['keys/key_1'][...])\n"
   ]
  },
  {
   "cell_type": "code",
   "execution_count": 9,
   "metadata": {},
   "outputs": [
    {
     "name": "stdout",
     "output_type": "stream",
     "text": [
      "[[[[1]]\n",
      "\n",
      "  [[2]]\n",
      "\n",
      "  [[3]]\n",
      "\n",
      "  [[4]]]\n",
      "\n",
      "\n",
      " [[[5]]\n",
      "\n",
      "  [[6]]\n",
      "\n",
      "  [[7]]\n",
      "\n",
      "  [[8]]]]\n"
     ]
    }
   ],
   "source": [
    "with h5py.File(\"test_file.h5\", \"r+\") as f:\n",
    "    print(f['keys/key_2'][...])"
   ]
  },
  {
   "cell_type": "code",
   "execution_count": 10,
   "metadata": {},
   "outputs": [
    {
     "name": "stdout",
     "output_type": "stream",
     "text": [
      "0\n",
      "1\n",
      "2\n",
      "3\n"
     ]
    }
   ],
   "source": [
    "with h5py.File(\"test_file.h5\", \"r\", swmr = True) as f:\n",
    "    kf = Follower(f, [\"keys\"], timeout = 1)\n",
    "    for key in kf:\n",
    "        print(key)"
   ]
  },
  {
   "cell_type": "markdown",
   "metadata": {},
   "source": [
    "As we can see, Follower works correctly and only iterates to index 3, the highest common non-zero value for the two key datasets"
   ]
  },
  {
   "cell_type": "markdown",
   "metadata": {},
   "source": [
    "### Example - Using other termination methods\n",
    "The timeout method is the default for halting iteration. Other methods can be\n",
    "used by passing a list of method names (as strings) as an argument when\n",
    "instantiating the Follower"
   ]
  },
  {
   "cell_type": "code",
   "execution_count": null,
   "metadata": {},
   "outputs": [],
   "source": [
    "with h5py.File(\"test_file.h5\", \"r\", swmr = True) as f:\n",
    "    kf = Follower(f, [\"keys\"], termination_conditions = [\"always_true\"])\n",
    "    for key in kf:\n",
    "        print(key)"
   ]
  },
  {
   "cell_type": "markdown",
   "metadata": {},
   "source": [
    "As expected, we see the same outcome above as when a timeout was used. What\n",
    "has happened is that whilever there were non-zero keys the iterator behaved as\n",
    "normal. As soon as the next available key was zero the iterator stopped\n",
    "straight away (rather than waiting for a timeout)."
   ]
  },
  {
   "cell_type": "markdown",
   "metadata": {},
   "source": [
    "## FrameGrabber"
   ]
  },
  {
   "cell_type": "markdown",
   "metadata": {},
   "source": [
    "Indices produced by instances of the KeyFollower class correspond to frames of\n",
    "relavent datasets. To understand how the FrameGrabber class works it is important\n",
    "to understand that instances of Follower do **not** return the value of a key,\n",
    "they return the index of the key for a flattened version of the array. We will\n",
    "demonstrate this with an example"
   ]
  },
  {
   "cell_type": "code",
   "execution_count": 11,
   "metadata": {},
   "outputs": [
    {
     "name": "stdout",
     "output_type": "stream",
     "text": [
      "[[4137 1214 9907 4536]\n",
      " [ 685 9315  244 3826]]\n"
     ]
    }
   ],
   "source": [
    "complete_key_array = np.random.randint(low = 10, high = 20000, size = (2,4))\n",
    "with h5py.File(\"test_file.h5\", \"w\", libver = \"latest\") as f:\n",
    "    f.create_group(\"keys\")\n",
    "    f[\"keys\"].create_dataset(\"key_1\", data = complete_key_array)\n",
    "\n",
    "    #print dataset to demonstrate the non-sequential nature of the keys\n",
    "    print(f[\"keys/key_1\"][...])"
   ]
  },
  {
   "cell_type": "markdown",
   "metadata": {},
   "source": [
    "As you can see above the key values are all non-zero, however they are not in\n",
    "sequential order and many of the values are quite high. When using an instance\n",
    "of the KeyFollower to iterate through this we simply recieve an index "
   ]
  },
  {
   "cell_type": "code",
   "execution_count": 12,
   "metadata": {},
   "outputs": [
    {
     "name": "stdout",
     "output_type": "stream",
     "text": [
      "0\n",
      "1\n",
      "2\n",
      "3\n",
      "4\n",
      "5\n",
      "6\n",
      "7\n"
     ]
    }
   ],
   "source": [
    "with h5py.File(\"test_file.h5\", \"r\", swmr = True) as f:\n",
    "    kf = Follower(f, [\"keys\"], timeout = 1)\n",
    "    for key in kf:\n",
    "        print(key)\n"
   ]
  },
  {
   "cell_type": "markdown",
   "metadata": {},
   "source": [
    "If we just want to access the value corresponding to the index we can use\n",
    "numpys unravel_index() method "
   ]
  },
  {
   "cell_type": "code",
   "execution_count": 13,
   "metadata": {},
   "outputs": [
    {
     "name": "stdout",
     "output_type": "stream",
     "text": [
      "244\n"
     ]
    }
   ],
   "source": [
    "with h5py.File(\"test_file.h5\", \"r\", swmr = True) as f:\n",
    "    print(f[\"keys/key_1\"][np.unravel_index(6, shape = (2,4))])"
   ]
  },
  {
   "cell_type": "markdown",
   "metadata": {},
   "source": [
    "This is fine for extracting a scalar, but does not help when trying to extract\n",
    "a vector valued frame from a dataset. For this purpose we have created the\n",
    "FrameGrabber class"
   ]
  },
  {
   "cell_type": "markdown",
   "metadata": {},
   "source": [
    "### Using FrameGrabber to Extract Frames from a key index\n",
    "First, we will create a small dataset with a corresponding key dataset containing\n",
    "with all values non-zero"
   ]
  },
  {
   "cell_type": "code",
   "execution_count": 14,
   "metadata": {},
   "outputs": [],
   "source": [
    "complete_key_dataset = np.arange(4).reshape(2,2,1,1) + 1\n",
    "complete_data_dataset = np.random.randint(low = 0, high = 1000, size = (2,2,5,10))\n",
    "with h5py.File(\"test_file.h5\", \"w\", libver = \"latest\") as f:\n",
    "    f.create_group(\"keys\")\n",
    "    f.create_group(\"data\")\n",
    "    f[\"keys\"].create_dataset(\"key_1\", data = complete_key_dataset)\n",
    "    f[\"data\"].create_dataset(\"data_1\", data = complete_data_dataset)"
   ]
  },
  {
   "cell_type": "markdown",
   "metadata": {},
   "source": [
    "FrameGrabber takes two arguments, the full path to the dataset you want to\n",
    "extract frames from and an open h5py.File object containing the dataset. To\n",
    "extract a frame, call the method FrameGrabber.Grabber() with the key index"
   ]
  },
  {
   "cell_type": "code",
   "execution_count": 15,
   "metadata": {},
   "outputs": [
    {
     "name": "stdout",
     "output_type": "stream",
     "text": [
      "Frame: 0\n",
      "[[[[520 467   2   6 308 264 294 310  29 313]\n",
      "   [898 659 806 304 148 709 751 339 654 772]\n",
      "   [815 730 452 948 480 533 132 633 974 145]\n",
      "   [ 58 592  47 886 898 907  57 864 801 395]\n",
      "   [209 658 777 607 862 586 865 806 503 317]]]]\n",
      "Shape: (1, 1, 5, 10)\n",
      "\n",
      "Frame: 1\n",
      "[[[[809 566 104 124  41 987 689 637 601 595]\n",
      "   [769 437 223 445 312 744 604 433 276 165]\n",
      "   [887 313 743  93 808  12 303 681 255 790]\n",
      "   [565 456 763 865 403 616 284 370 652 337]\n",
      "   [777 389 980 576 522 725 888 484 993 606]]]]\n",
      "Shape: (1, 1, 5, 10)\n",
      "\n",
      "Frame: 2\n",
      "[[[[ 68 141 132 434 706 620 375 160 616 653]\n",
      "   [960 136 846 964 773 807 839 321  80 289]\n",
      "   [872 611 425 833 474 730  56 928 984 364]\n",
      "   [724 677 332 399 696 322 489 665 335 209]\n",
      "   [137 469 128 898 577  10 493 181 837 230]]]]\n",
      "Shape: (1, 1, 5, 10)\n",
      "\n",
      "Frame: 3\n",
      "[[[[908 548 299 817 467 352 840 965 613 774]\n",
      "   [461 622 273 741   8 689 804 519 940 576]\n",
      "   [442 738 517 272 641 569 703 802 195 125]\n",
      "   [305 801 322 955 285 478 240 300 497 962]\n",
      "   [460 643 490 378 683  33 645  67  10 176]]]]\n",
      "Shape: (1, 1, 5, 10)\n",
      "\n"
     ]
    }
   ],
   "source": [
    "with h5py.File(\"test_file.h5\", \"r\", swmr = True) as f:\n",
    "    kf = Follower(f, [\"keys\"], timeout = 1)\n",
    "    fg = FrameGrabber(\"data/data_1\", f)\n",
    "    for key in kf:\n",
    "\n",
    "        frame = fg.Grabber(key)\n",
    "        print(f\"Frame: {key}\")\n",
    "        print(frame)\n",
    "        print(f\"Shape: {frame.shape}\\n\")\n"
   ]
  },
  {
   "cell_type": "markdown",
   "metadata": {},
   "source": [
    "The above example demonstrates the ability of the FrameGrabber class to\n",
    "return corresponding vector-valued dataset frames of the correct shape. This\n",
    "lets us do operations frame by frame live as frames are being written. Below\n",
    "is a simple data reduction example where we return the sum of each frame"
   ]
  },
  {
   "cell_type": "code",
   "execution_count": 16,
   "metadata": {},
   "outputs": [
    {
     "name": "stdout",
     "output_type": "stream",
     "text": [
      "Printing frame number 0\n",
      "Frame = [[[[26090]]]]\n",
      " Shape = (1, 1, 1, 1)\n",
      "\n",
      "Printing frame number 1\n",
      "Frame = [[[[26697]]]]\n",
      " Shape = (1, 1, 1, 1)\n",
      "\n",
      "Printing frame number 2\n",
      "Frame = [[[[25005]]]]\n",
      " Shape = (1, 1, 1, 1)\n",
      "\n",
      "Printing frame number 3\n",
      "Frame = [[[[25950]]]]\n",
      " Shape = (1, 1, 1, 1)\n",
      "\n"
     ]
    }
   ],
   "source": [
    "with h5py.File(\"test_file.h5\", \"r\", swmr = True) as f:\n",
    "    kf = Follower(f, [\"keys\"], timeout = 1)\n",
    "    fg = FrameGrabber(\"data/data_1\", f)\n",
    "    for key in kf:\n",
    "        current_frame = fg.Grabber(key)\n",
    "        data_reduced_frame = current_frame.sum()\n",
    "        data_reduced_frame = data_reduced_frame.reshape((1,1,1,1))\n",
    "        print(f\"Printing frame number {key}\")\n",
    "        print(f\"Frame = {data_reduced_frame}\\n Shape = {data_reduced_frame.shape}\\n\")"
   ]
  },
  {
   "cell_type": "code",
   "execution_count": null,
   "metadata": {},
   "outputs": [],
   "source": []
  }
 ],
 "metadata": {
  "kernelspec": {
   "display_name": "Python 3",
   "language": "python",
   "name": "python3"
  },
  "language_info": {
   "codemirror_mode": {
    "name": "ipython",
    "version": 3
   },
   "file_extension": ".py",
   "mimetype": "text/x-python",
   "name": "python",
   "nbconvert_exporter": "python",
   "pygments_lexer": "ipython3",
   "version": "3.8.3"
  }
 },
 "nbformat": 4,
 "nbformat_minor": 4
}
